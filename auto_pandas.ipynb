{
 "cells": [
  {
   "cell_type": "code",
   "execution_count": 1,
   "metadata": {},
   "outputs": [],
   "source": [
    "import pyautogui\n",
    "import time\n",
    "import pyperclip\n",
    "import pandas as pd"
   ]
  },
  {
   "cell_type": "code",
   "execution_count": 23,
   "metadata": {},
   "outputs": [
    {
     "data": {
      "text/plain": [
       "'OK'"
      ]
     },
     "execution_count": 23,
     "metadata": {},
     "output_type": "execute_result"
    }
   ],
   "source": [
    "pyautogui.PAUSE = 1\n",
    "pyautogui.alert('Atenção! Não realize nenhuma ação enquanto o programa estiver rodando.')\n",
    "pyautogui.press('winleft')\n",
    "pyautogui.write('chrome')\n",
    "pyautogui.press('enter')\n",
    "link = 'https://docs.google.com/spreadsheets/d/1ZmUsPS56kXG_HFAqk-gppU1iugDPuH-w/edit#gid=1634402548'\n",
    "pyperclip.copy(link)\n",
    "pyautogui.hotkey('ctrl', 'v')\n",
    "pyautogui.press('enter')\n",
    "time.sleep(15)\n",
    "pyautogui.click(93, 152)\n",
    "pyautogui.moveTo(177, 446)\n",
    "pyautogui.click(428, 447)\n",
    "time.sleep(3)\n",
    "pyautogui.press('enter')\n",
    "time.sleep(10)\n",
    "df = pd.read_excel(r'C:/Users/Admin/Downloads/Vendas - Dez.xlsx')\n",
    "faturamento = df['Valor Final'].sum()\n",
    "qtd_produtos = df['Quantidade'].sum()\n",
    "pyautogui.hotkey('ctrl', 't')\n",
    "pyautogui.write('mail.google.com')\n",
    "pyautogui.press('enter')\n",
    "time.sleep(10)\n",
    "pyautogui.click(80, 206)\n",
    "time.sleep(3)\n",
    "pyautogui.write('solanobikers@outlook.com, solanocruzjunior@gmail.com')\n",
    "pyautogui.press('tab')\n",
    "pyautogui.press('tab')\n",
    "assunto = 'Relatório de vendas'\n",
    "pyperclip.copy(assunto)\n",
    "pyautogui.hotkey('ctrl', 'v')\n",
    "time.sleep(3)\n",
    "pyautogui.press('tab')\n",
    "texto_email = f\"\"\"\n",
    "Prezados, bom dia\n",
    "O faturamento de ontem foi de: R${faturamento:,.2f}\n",
    "A quantidade de produtos vendidos foi de: {qtd_produtos:,}\n",
    "Atenciosamente\n",
    "Solano\"\"\"\n",
    "\n",
    "pyperclip.copy(texto_email)\n",
    "pyautogui.hotkey('ctrl', 'v')\n",
    "pyautogui.hotkey('ctrl', 'enter')\n",
    "\n",
    "pyautogui.alert('Processo finalizado.')\n"
   ]
  },
  {
   "cell_type": "code",
   "execution_count": null,
   "metadata": {},
   "outputs": [],
   "source": []
  }
 ],
 "metadata": {
  "kernelspec": {
   "display_name": "Python 3",
   "language": "python",
   "name": "python3"
  },
  "language_info": {
   "codemirror_mode": {
    "name": "ipython",
    "version": 3
   },
   "file_extension": ".py",
   "mimetype": "text/x-python",
   "name": "python",
   "nbconvert_exporter": "python",
   "pygments_lexer": "ipython3",
   "version": "3.8.8"
  }
 },
 "nbformat": 4,
 "nbformat_minor": 4
}
